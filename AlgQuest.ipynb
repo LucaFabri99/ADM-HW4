{
 "cells": [
  {
   "cell_type": "markdown",
   "id": "b0fd4892-1178-4f77-abb4-ee00cb53c4f1",
   "metadata": {},
   "source": [
    "# Algorithmic Question"
   ]
  },
  {
   "cell_type": "code",
   "execution_count": 49,
   "id": "2637a34c-66ee-4836-b5ba-6c9acf338163",
   "metadata": {},
   "outputs": [],
   "source": [
    "#Let's define some functions that are going to be useful in our algorithm \n",
    "ef get_last_index(L, value):\n",
    "    last=0\n",
    "    for val_in_L in range(len(L)):\n",
    "        if value == L[val_in_L]:\n",
    "            last=val_in_L\n",
    "    return last\n",
    "\n",
    "def get_first_index(L, value):\n",
    "    first= 0\n",
    "    for val_in_L in range(len(L)):\n",
    "        if value == L[val_in_L]:\n",
    "            first=val_in_L\n",
    "            break\n",
    "    return first"
   ]
  },
  {
   "cell_type": "code",
   "execution_count": 47,
   "id": "e58f62f8-102e-46fe-813b-11c1a2b855b7",
   "metadata": {},
   "outputs": [
    {
     "data": {
      "text/plain": [
       "4"
      ]
     },
     "execution_count": 47,
     "metadata": {},
     "output_type": "execute_result"
    }
   ],
   "source": [
    "get_last_index([1,1,3,3,1],1)"
   ]
  },
  {
   "cell_type": "code",
   "execution_count": 17,
   "id": "d54bd6f9-4bf4-4a40-8556-e41871748f22",
   "metadata": {},
   "outputs": [
    {
     "data": {
      "text/plain": [
       "2"
      ]
     },
     "execution_count": 17,
     "metadata": {},
     "output_type": "execute_result"
    }
   ],
   "source": [
    "get_first_index([1,1,3,3,1],3)"
   ]
  },
  {
   "cell_type": "code",
   "execution_count": 87,
   "id": "7f5623ad-d36f-429f-9cc4-cb22d29ff7a8",
   "metadata": {},
   "outputs": [
    {
     "name": "stdin",
     "output_type": "stream",
     "text": [
      " 20 12 2\n",
      " 2 2 3 2 3 2 4 4 3 5 19 5\n"
     ]
    },
    {
     "name": "stdout",
     "output_type": "stream",
     "text": [
      "Value  2 in position  0\n",
      "Open:  [2]\n",
      "Closed:  []\n",
      "Value  2 in position  1\n",
      "Open:  [2]\n",
      "Closed:  []\n",
      "Value  3 in position  2\n",
      "Open:  [2, 3]\n",
      "Closed:  []\n",
      "Value  2 in position  3\n",
      "Open:  [2, 3]\n",
      "Closed:  []\n",
      "Value  3 in position  4\n",
      "Open:  [2, 3]\n",
      "Closed:  []\n",
      "Value  2 in position  5\n",
      "Open:  [3]\n",
      "Closed:  [2]\n",
      "Value  4 in position  6\n",
      "Open:  [3, 4]\n",
      "Closed:  [2]\n",
      "Value  4 in position  7\n",
      "Open:  [3]\n",
      "Closed:  [2, 4]\n",
      "Value  3 in position  8\n",
      "Open:  []\n",
      "Closed:  [2, 4, 3]\n",
      "Value  5 in position  9\n",
      "Open:  [5]\n",
      "Closed:  [2, 4, 3]\n",
      "Value  19 in position  10\n",
      "Open:  [5, 19]\n",
      "Closed:  [2, 4, 3, 19]\n",
      "Value  5 in position  11\n",
      "Open:  [19]\n",
      "Closed:  [2, 4, 3, 19, 5]\n",
      "Yes\n"
     ]
    }
   ],
   "source": [
    "entrances,student,guards = map(int,input().split())       #prendiamo in input il numero di entrate, di studenti e di guardie disponibili\n",
    "list_entr=list(map(int,input().split()))                  #prendiamo in input la lista delle entrate che verranno usate dagli studenti\n",
    "\n",
    "entr_open=[]            #Inizializziamo la lista delle entrate aperte\n",
    "entr_closed=[]          #Inizializziamo la lista delle entrate chiuse\n",
    "final_count= 0            #Inizializziamo un contatore utile per capire se printare 'yes'\n",
    "\n",
    "#Loop per ogni entrata che verrà usata dagli studenti\n",
    "for entr in range(len(list_entr)):\n",
    "    \n",
    "    #Se l'entrata è utilizzata solo una volta, cioè è la prima e l'ultima\n",
    "    if entr == get_first_index(list_entr,int(list_entr[entr])) == get_last_index(list_entr,int(list_entr[entr])):\n",
    "        \n",
    "        #la apriamo\n",
    "        entr_open.append(list_entr[entr])\n",
    "        \n",
    "        #controlliamo se abbiamo le guardie\n",
    "        if len(entr_open) > guards:                     # se il numero di entrate aperte è maggiore \n",
    "            print('No')                                 # del numero di guardie disponibili allora\n",
    "            break                                       # printiamo 'no' e interrompiamo l'algoritmo\n",
    "            \n",
    "        \n",
    "        #Se ci sono le guardie, chiudiamo l'entrata\n",
    "        entr_closed.append(list_entr[entr])\n",
    "    \n",
    "    \n",
    "    \n",
    "    #Se l'entrata è utilizzata più di una volta\n",
    "    else:\n",
    "        \n",
    "        #Se l'entrata non è l'ultima\n",
    "        if entr != get_last_index(list_entr,int(list_entr[entr])):\n",
    "        \n",
    "            #Se non è già aperta\n",
    "            if list_entr[entr] not in entr_open:\n",
    "            \n",
    "                #Apri entrata\n",
    "                entr_open.append(list_entr[entr])\n",
    "                \n",
    "    \n",
    "    \n",
    "        #Se l'entrata è l'ultima  \n",
    "        else:\n",
    "            \n",
    "            #verrà chiusa \n",
    "            entr_closed.append(list_entr[entr])\n",
    "        \n",
    "            #quindi si toglie da quelle aperte\n",
    "            entr_open.remove(list_entr[entr])\n",
    "        \n",
    "        \n",
    "        \n",
    "    #controlliamo se abbiamo le guardie\n",
    "    if len(entr_open) > guards:\n",
    "        end=1\n",
    "        print('No')\n",
    "        break\n",
    "        \n",
    "    print('Value ', list_entr[entr],'in position ',entr)\n",
    "    print('Open: ', entr_open)\n",
    "    print('Closed: ', entr_closed)\n",
    "    \n",
    "#Se ogni volta le guardie sono state disponibili, printo 'Yes'\n",
    "print('Yes')\n"
   ]
  },
  {
   "cell_type": "code",
   "execution_count": null,
   "id": "1758a006-a2c9-4450-b23e-cc28b10999a8",
   "metadata": {},
   "outputs": [],
   "source": [
    "#Test from HW4\n",
    "\n",
    "4 5 1\n",
    "1 1 3 3 3\n",
    "'yes'\n",
    "\n",
    "2 5 1 \n",
    "1 2 1 2 2\n",
    "'no'"
   ]
  }
 ],
 "metadata": {
  "kernelspec": {
   "display_name": "Python 3 (ipykernel)",
   "language": "python",
   "name": "python3"
  },
  "language_info": {
   "codemirror_mode": {
    "name": "ipython",
    "version": 3
   },
   "file_extension": ".py",
   "mimetype": "text/x-python",
   "name": "python",
   "nbconvert_exporter": "python",
   "pygments_lexer": "ipython3",
   "version": "3.9.7"
  }
 },
 "nbformat": 4,
 "nbformat_minor": 5
}
