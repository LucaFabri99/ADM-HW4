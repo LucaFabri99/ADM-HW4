{
 "cells": [
  {
   "cell_type": "markdown",
   "id": "1af1a123-14a9-4e73-997f-be4f4a0d8ccc",
   "metadata": {},
   "source": [
    "We implemented K-means with map reduce. We used the value for number of cluster given by the Elbow Method found in the exercise below."
   ]
  },
  {
   "cell_type": "code",
   "execution_count": 36,
   "id": "be02855b-d249-43d3-a4f6-35d03b8f6f08",
   "metadata": {
    "execution": {
     "iopub.execute_input": "2022-12-11T21:34:32.686469Z",
     "iopub.status.busy": "2022-12-11T21:34:32.686233Z",
     "iopub.status.idle": "2022-12-11T21:34:32.960853Z",
     "shell.execute_reply": "2022-12-11T21:34:32.960223Z",
     "shell.execute_reply.started": "2022-12-11T21:34:32.686445Z"
    },
    "tags": []
   },
   "outputs": [
    {
     "data": {
      "application/vnd.jupyter.widget-view+json": {
       "model_id": "9a87bb7433ff4a9ea87fc489d5739c59",
       "version_major": 2,
       "version_minor": 0
      },
      "text/plain": [
       "VBox()"
      ]
     },
     "metadata": {},
     "output_type": "display_data"
    },
    {
     "data": {
      "application/vnd.jupyter.widget-view+json": {
       "model_id": "",
       "version_major": 2,
       "version_minor": 0
      },
      "text/plain": [
       "FloatProgress(value=0.0, bar_style='info', description='Progress:', layout=Layout(height='25px', width='50%'),…"
      ]
     },
     "metadata": {},
     "output_type": "display_data"
    }
   ],
   "source": [
    "import numpy as np\n",
    "from numpy import linalg\n",
    "from pyspark.ml.linalg import Vectors"
   ]
  },
  {
   "cell_type": "markdown",
   "id": "5bbfc0b9-0cfd-4d26-9014-f8af1033c252",
   "metadata": {},
   "source": [
    "We read the data"
   ]
  },
  {
   "cell_type": "code",
   "execution_count": 12,
   "id": "74e788bc-94ef-4f24-a1a8-a2cace09f7bb",
   "metadata": {
    "execution": {
     "iopub.execute_input": "2022-12-11T21:00:19.411492Z",
     "iopub.status.busy": "2022-12-11T21:00:19.411265Z",
     "iopub.status.idle": "2022-12-11T21:00:19.692754Z",
     "shell.execute_reply": "2022-12-11T21:00:19.692007Z",
     "shell.execute_reply.started": "2022-12-11T21:00:19.411467Z"
    },
    "tags": []
   },
   "outputs": [
    {
     "data": {
      "application/vnd.jupyter.widget-view+json": {
       "model_id": "c37ec972f2864869beaf5245cb06b05b",
       "version_major": 2,
       "version_minor": 0
      },
      "text/plain": [
       "VBox()"
      ]
     },
     "metadata": {},
     "output_type": "display_data"
    },
    {
     "data": {
      "application/vnd.jupyter.widget-view+json": {
       "model_id": "",
       "version_major": 2,
       "version_minor": 0
      },
      "text/plain": [
       "FloatProgress(value=0.0, bar_style='info', description='Progress:', layout=Layout(height='25px', width='50%'),…"
      ]
     },
     "metadata": {},
     "output_type": "display_data"
    }
   ],
   "source": [
    "data = sc.textFile('s3://sophja.k/data_score.csv')"
   ]
  },
  {
   "cell_type": "code",
   "execution_count": 13,
   "id": "9ec8b8e0-18dd-40ec-97f5-268aef3103fe",
   "metadata": {
    "execution": {
     "iopub.execute_input": "2022-12-11T21:00:26.095889Z",
     "iopub.status.busy": "2022-12-11T21:00:26.095643Z",
     "iopub.status.idle": "2022-12-11T21:00:26.162074Z",
     "shell.execute_reply": "2022-12-11T21:00:26.161458Z",
     "shell.execute_reply.started": "2022-12-11T21:00:26.095862Z"
    },
    "tags": []
   },
   "outputs": [
    {
     "data": {
      "application/vnd.jupyter.widget-view+json": {
       "model_id": "cb1eb58665064d20a7d2f72cb7d6c714",
       "version_major": 2,
       "version_minor": 0
      },
      "text/plain": [
       "VBox()"
      ]
     },
     "metadata": {},
     "output_type": "display_data"
    },
    {
     "data": {
      "application/vnd.jupyter.widget-view+json": {
       "model_id": "",
       "version_major": 2,
       "version_minor": 0
      },
      "text/plain": [
       "FloatProgress(value=0.0, bar_style='info', description='Progress:', layout=Layout(height='25px', width='50%'),…"
      ]
     },
     "metadata": {},
     "output_type": "display_data"
    }
   ],
   "source": [
    "points=data.map(lambda row : row.split(\",\"))"
   ]
  },
  {
   "cell_type": "code",
   "execution_count": 14,
   "id": "3692a720-1d38-4566-82a8-aee4490d24f4",
   "metadata": {
    "execution": {
     "iopub.execute_input": "2022-12-11T21:00:28.760159Z",
     "iopub.status.busy": "2022-12-11T21:00:28.759923Z",
     "iopub.status.idle": "2022-12-11T21:00:42.144840Z",
     "shell.execute_reply": "2022-12-11T21:00:42.143918Z",
     "shell.execute_reply.started": "2022-12-11T21:00:28.760134Z"
    },
    "tags": []
   },
   "outputs": [
    {
     "data": {
      "application/vnd.jupyter.widget-view+json": {
       "model_id": "16c3330e96e84ddc9595f643e2c9a7b5",
       "version_major": 2,
       "version_minor": 0
      },
      "text/plain": [
       "VBox()"
      ]
     },
     "metadata": {},
     "output_type": "display_data"
    },
    {
     "data": {
      "application/vnd.jupyter.widget-view+json": {
       "model_id": "",
       "version_major": 2,
       "version_minor": 0
      },
      "text/plain": [
       "FloatProgress(value=0.0, bar_style='info', description='Progress:', layout=Layout(height='25px', width='50%'),…"
      ]
     },
     "metadata": {},
     "output_type": "display_data"
    }
   ],
   "source": [
    "row=points.take(10)"
   ]
  },
  {
   "cell_type": "code",
   "execution_count": 15,
   "id": "35b0e907-bf86-461c-a0e0-80a332de6e7a",
   "metadata": {
    "execution": {
     "iopub.execute_input": "2022-12-11T21:01:03.328874Z",
     "iopub.status.busy": "2022-12-11T21:01:03.328637Z",
     "iopub.status.idle": "2022-12-11T21:01:03.392486Z",
     "shell.execute_reply": "2022-12-11T21:01:03.391842Z",
     "shell.execute_reply.started": "2022-12-11T21:01:03.328850Z"
    },
    "tags": []
   },
   "outputs": [
    {
     "data": {
      "application/vnd.jupyter.widget-view+json": {
       "model_id": "40e5097bff694bb28fbe6af4d8607777",
       "version_major": 2,
       "version_minor": 0
      },
      "text/plain": [
       "VBox()"
      ]
     },
     "metadata": {},
     "output_type": "display_data"
    },
    {
     "data": {
      "application/vnd.jupyter.widget-view+json": {
       "model_id": "",
       "version_major": 2,
       "version_minor": 0
      },
      "text/plain": [
       "FloatProgress(value=0.0, bar_style='info', description='Progress:', layout=Layout(height='25px', width='50%'),…"
      ]
     },
     "metadata": {},
     "output_type": "display_data"
    },
    {
     "name": "stdout",
     "output_type": "stream",
     "text": [
      "[['-0.0988635239706018', '1.0547428686872697', '-0.55669363138511', '1.5686337566928372'], ['-0.004175630616080824', '-0.4217818953437049', '-0.2694882987311586', '-0.00861670843399599'], ['-0.20044036082777814', '0.24184749652546683', '-1.2788218830625382', '-0.008175224309425234'], ['-0.16939056186668425', '0.14613804714676096', '-0.6333258381538082', '-1.4021344078547264'], ['0.11525730794485466', '-0.4783662705597016', '0.382540962226797', '-1.4027253587065533'], ['-0.37713548513359124', '-0.4666029690052431', '-0.28267419545048084', '-0.0082052170381025'], ['0.0749583647011032', '1.1140699526351527', '-1.1687423395641279', '-0.010008525871680593'], ['0.5382149164178932', '-0.44008677676958174', '0.36249484059837445', '1.5693174787635467'], ['-0.35340573931017727', '-0.33994121408299777', '2.4918167594430374', '-1.3904884103682387'], ['0.11588756688699053', '-0.8800119943039049', '3.543928348182661', '-1.3911921787827586']]"
     ]
    }
   ],
   "source": [
    "row"
   ]
  },
  {
   "cell_type": "code",
   "execution_count": 16,
   "id": "588b6964-2b07-4c8e-ad1d-ee77363c2006",
   "metadata": {
    "execution": {
     "iopub.execute_input": "2022-12-11T21:01:08.072927Z",
     "iopub.status.busy": "2022-12-11T21:01:08.072683Z",
     "iopub.status.idle": "2022-12-11T21:01:08.136459Z",
     "shell.execute_reply": "2022-12-11T21:01:08.135900Z",
     "shell.execute_reply.started": "2022-12-11T21:01:08.072902Z"
    },
    "tags": []
   },
   "outputs": [
    {
     "data": {
      "application/vnd.jupyter.widget-view+json": {
       "model_id": "e895bfc833b5409894c206fb63859e40",
       "version_major": 2,
       "version_minor": 0
      },
      "text/plain": [
       "VBox()"
      ]
     },
     "metadata": {},
     "output_type": "display_data"
    },
    {
     "data": {
      "application/vnd.jupyter.widget-view+json": {
       "model_id": "",
       "version_major": 2,
       "version_minor": 0
      },
      "text/plain": [
       "FloatProgress(value=0.0, bar_style='info', description='Progress:', layout=Layout(height='25px', width='50%'),…"
      ]
     },
     "metadata": {},
     "output_type": "display_data"
    }
   ],
   "source": [
    "points=points.map(lambda x: np.array(x, dtype=np.float32))"
   ]
  },
  {
   "cell_type": "code",
   "execution_count": 17,
   "id": "530f67dd-ec49-4e8d-b1da-0884065cc5cb",
   "metadata": {
    "execution": {
     "iopub.execute_input": "2022-12-11T21:01:10.832460Z",
     "iopub.status.busy": "2022-12-11T21:01:10.832220Z",
     "iopub.status.idle": "2022-12-11T21:01:18.167225Z",
     "shell.execute_reply": "2022-12-11T21:01:18.166597Z",
     "shell.execute_reply.started": "2022-12-11T21:01:10.832434Z"
    },
    "tags": []
   },
   "outputs": [
    {
     "data": {
      "application/vnd.jupyter.widget-view+json": {
       "model_id": "72bea391bd4942f98c6256838354d610",
       "version_major": 2,
       "version_minor": 0
      },
      "text/plain": [
       "VBox()"
      ]
     },
     "metadata": {},
     "output_type": "display_data"
    },
    {
     "data": {
      "application/vnd.jupyter.widget-view+json": {
       "model_id": "",
       "version_major": 2,
       "version_minor": 0
      },
      "text/plain": [
       "FloatProgress(value=0.0, bar_style='info', description='Progress:', layout=Layout(height='25px', width='50%'),…"
      ]
     },
     "metadata": {},
     "output_type": "display_data"
    }
   ],
   "source": [
    "initial_centroids = points.takeSample(False, 4)"
   ]
  },
  {
   "cell_type": "markdown",
   "id": "4c75413f-178d-438f-a9d6-d3d50202ecfe",
   "metadata": {},
   "source": [
    "we save as first centroids the ones we find with takeSample"
   ]
  },
  {
   "cell_type": "code",
   "execution_count": 18,
   "id": "701380dc-1285-46d2-b41e-172aebe7164c",
   "metadata": {
    "execution": {
     "iopub.execute_input": "2022-12-11T21:01:38.968918Z",
     "iopub.status.busy": "2022-12-11T21:01:38.968669Z",
     "iopub.status.idle": "2022-12-11T21:01:39.036466Z",
     "shell.execute_reply": "2022-12-11T21:01:39.035727Z",
     "shell.execute_reply.started": "2022-12-11T21:01:38.968891Z"
    },
    "tags": []
   },
   "outputs": [
    {
     "data": {
      "application/vnd.jupyter.widget-view+json": {
       "model_id": "ee367fc0094447e482afdfc8f9b784e1",
       "version_major": 2,
       "version_minor": 0
      },
      "text/plain": [
       "VBox()"
      ]
     },
     "metadata": {},
     "output_type": "display_data"
    },
    {
     "data": {
      "application/vnd.jupyter.widget-view+json": {
       "model_id": "",
       "version_major": 2,
       "version_minor": 0
      },
      "text/plain": [
       "FloatProgress(value=0.0, bar_style='info', description='Progress:', layout=Layout(height='25px', width='50%'),…"
      ]
     },
     "metadata": {},
     "output_type": "display_data"
    }
   ],
   "source": [
    "centroids_broadcast = sc.broadcast(initial_centroids)"
   ]
  },
  {
   "cell_type": "markdown",
   "id": "b34dcd67-9c83-439e-b416-1108e1b5f877",
   "metadata": {},
   "source": [
    "we define the function distance that calculates the distance between the points and centroides or the old and new centroids "
   ]
  },
  {
   "cell_type": "code",
   "execution_count": 19,
   "id": "e55d1103-b7fc-4e2b-9381-03cf1b6420dc",
   "metadata": {
    "execution": {
     "iopub.execute_input": "2022-12-11T21:01:41.842484Z",
     "iopub.status.busy": "2022-12-11T21:01:41.842225Z",
     "iopub.status.idle": "2022-12-11T21:01:41.904911Z",
     "shell.execute_reply": "2022-12-11T21:01:41.904351Z",
     "shell.execute_reply.started": "2022-12-11T21:01:41.842457Z"
    },
    "tags": []
   },
   "outputs": [
    {
     "data": {
      "application/vnd.jupyter.widget-view+json": {
       "model_id": "b889e8c86da545edb79ed0ffa6ce9ff1",
       "version_major": 2,
       "version_minor": 0
      },
      "text/plain": [
       "VBox()"
      ]
     },
     "metadata": {},
     "output_type": "display_data"
    },
    {
     "data": {
      "application/vnd.jupyter.widget-view+json": {
       "model_id": "",
       "version_major": 2,
       "version_minor": 0
      },
      "text/plain": [
       "FloatProgress(value=0.0, bar_style='info', description='Progress:', layout=Layout(height='25px', width='50%'),…"
      ]
     },
     "metadata": {},
     "output_type": "display_data"
    }
   ],
   "source": [
    "def distance(p,q):\n",
    "    dist=linalg.norm(p - q, 2)\n",
    "    return dist"
   ]
  },
  {
   "cell_type": "markdown",
   "id": "f50f8d4d-9b42-4381-bd52-ab86c663fd0f",
   "metadata": {},
   "source": [
    "we define a function assign_centroids that assign the new centroid to each point every time the new centroid is calculated"
   ]
  },
  {
   "cell_type": "code",
   "execution_count": 20,
   "id": "8e97c3dc-df71-4aae-9e5e-8e24b3a44fda",
   "metadata": {
    "execution": {
     "iopub.execute_input": "2022-12-11T21:01:44.186302Z",
     "iopub.status.busy": "2022-12-11T21:01:44.186072Z",
     "iopub.status.idle": "2022-12-11T21:01:44.249543Z",
     "shell.execute_reply": "2022-12-11T21:01:44.248985Z",
     "shell.execute_reply.started": "2022-12-11T21:01:44.186279Z"
    },
    "tags": []
   },
   "outputs": [
    {
     "data": {
      "application/vnd.jupyter.widget-view+json": {
       "model_id": "bbe6aed84ec04f99b23928292f640481",
       "version_major": 2,
       "version_minor": 0
      },
      "text/plain": [
       "VBox()"
      ]
     },
     "metadata": {},
     "output_type": "display_data"
    },
    {
     "data": {
      "application/vnd.jupyter.widget-view+json": {
       "model_id": "",
       "version_major": 2,
       "version_minor": 0
      },
      "text/plain": [
       "FloatProgress(value=0.0, bar_style='info', description='Progress:', layout=Layout(height='25px', width='50%'),…"
      ]
     },
     "metadata": {},
     "output_type": "display_data"
    }
   ],
   "source": [
    "def assign_centroids(p):\n",
    "    min_dist = float(\"inf\")\n",
    "    centroids = centroids_broadcast.value\n",
    "    nearest_centroid = 0\n",
    "    for i in range(len(centroids)):\n",
    "        distance_  = distance(centroids[i], p)\n",
    "        if(distance_ < min_dist):\n",
    "            min_dist = distance_\n",
    "            nearest_centroid = i\n",
    "    \n",
    "    return (nearest_centroid, p)"
   ]
  },
  {
   "cell_type": "markdown",
   "id": "159fdbe7-a003-4d06-85a1-02570db3e4b5",
   "metadata": {},
   "source": [
    "The final function creates the centroid assign the definitive cluster to each points based on the distance they have to the centroid"
   ]
  },
  {
   "cell_type": "code",
   "execution_count": 22,
   "id": "afa944ea-686f-41d3-ad06-8d3d3452df69",
   "metadata": {
    "execution": {
     "iopub.execute_input": "2022-12-11T21:03:32.430153Z",
     "iopub.status.busy": "2022-12-11T21:03:32.429899Z",
     "iopub.status.idle": "2022-12-11T21:05:48.413200Z",
     "shell.execute_reply": "2022-12-11T21:05:48.412584Z",
     "shell.execute_reply.started": "2022-12-11T21:03:32.430127Z"
    },
    "tags": []
   },
   "outputs": [
    {
     "data": {
      "application/vnd.jupyter.widget-view+json": {
       "model_id": "fbb27939f651478c8262b4dc6ee1952c",
       "version_major": 2,
       "version_minor": 0
      },
      "text/plain": [
       "VBox()"
      ]
     },
     "metadata": {},
     "output_type": "display_data"
    },
    {
     "data": {
      "application/vnd.jupyter.widget-view+json": {
       "model_id": "",
       "version_major": 2,
       "version_minor": 0
      },
      "text/plain": [
       "FloatProgress(value=0.0, bar_style='info', description='Progress:', layout=Layout(height='25px', width='50%'),…"
      ]
     },
     "metadata": {},
     "output_type": "display_data"
    }
   ],
   "source": [
    "\n",
    "n=0\n",
    "while True:\n",
    "    cluster_assignment_rdd = points.map(assign_centroids)\n",
    "    \n",
    "    average_rdd = cluster_assignment_rdd.reduceByKey(lambda x,y: np.mean([x,y], axis=0)).sortByKey(ascending=True)\n",
    "    new_centroids = [item[1] for item in average_rdd.collect()]\n",
    "    #we check if the value of the old and new centroids are similiar\n",
    "    old_centroids = centroids_broadcast.value\n",
    "\n",
    "    for i in range(len(old_centroids)):\n",
    "        check = distance(old_centroids[i],new_centroids[i]) <= 0.05 #check if there are values less then threshold\n",
    "\n",
    "    n += 1\n",
    "    #repeat if n is less then the max number of iteration  or distance more then threshold\n",
    "    if(check.any() == False and n < 10):\n",
    "        centroids_broadcast = sc.broadcast(new_centroids)\n",
    "    else:\n",
    "        break"
   ]
  },
  {
   "cell_type": "code",
   "execution_count": 23,
   "id": "d6eb7dc8-b8fe-4f82-975c-fd8c778b9f03",
   "metadata": {
    "execution": {
     "iopub.execute_input": "2022-12-11T21:09:51.526807Z",
     "iopub.status.busy": "2022-12-11T21:09:51.526569Z",
     "iopub.status.idle": "2022-12-11T21:10:02.867150Z",
     "shell.execute_reply": "2022-12-11T21:10:02.866523Z",
     "shell.execute_reply.started": "2022-12-11T21:09:51.526782Z"
    },
    "tags": []
   },
   "outputs": [
    {
     "data": {
      "application/vnd.jupyter.widget-view+json": {
       "model_id": "ca9db9b7657d4569b6dc03b41fa01d89",
       "version_major": 2,
       "version_minor": 0
      },
      "text/plain": [
       "VBox()"
      ]
     },
     "metadata": {},
     "output_type": "display_data"
    },
    {
     "data": {
      "application/vnd.jupyter.widget-view+json": {
       "model_id": "",
       "version_major": 2,
       "version_minor": 0
      },
      "text/plain": [
       "FloatProgress(value=0.0, bar_style='info', description='Progress:', layout=Layout(height='25px', width='50%'),…"
      ]
     },
     "metadata": {},
     "output_type": "display_data"
    }
   ],
   "source": [
    "row=cluster_assignment_rdd.take(10)"
   ]
  },
  {
   "cell_type": "code",
   "execution_count": 24,
   "id": "aafbcba4-ad8a-431c-9144-1389a86e2d53",
   "metadata": {
    "execution": {
     "iopub.execute_input": "2022-12-11T21:10:49.443014Z",
     "iopub.status.busy": "2022-12-11T21:10:49.442786Z",
     "iopub.status.idle": "2022-12-11T21:10:49.508513Z",
     "shell.execute_reply": "2022-12-11T21:10:49.507825Z",
     "shell.execute_reply.started": "2022-12-11T21:10:49.442990Z"
    },
    "tags": []
   },
   "outputs": [
    {
     "data": {
      "application/vnd.jupyter.widget-view+json": {
       "model_id": "021351decbc941ac9754d5d3cee9cfcd",
       "version_major": 2,
       "version_minor": 0
      },
      "text/plain": [
       "VBox()"
      ]
     },
     "metadata": {},
     "output_type": "display_data"
    },
    {
     "data": {
      "application/vnd.jupyter.widget-view+json": {
       "model_id": "",
       "version_major": 2,
       "version_minor": 0
      },
      "text/plain": [
       "FloatProgress(value=0.0, bar_style='info', description='Progress:', layout=Layout(height='25px', width='50%'),…"
      ]
     },
     "metadata": {},
     "output_type": "display_data"
    },
    {
     "name": "stdout",
     "output_type": "stream",
     "text": [
      "[(1, array([-0.09886353,  1.0547428 , -0.5566936 ,  1.5686338 ], dtype=float32)), (1, array([-0.00417563, -0.4217819 , -0.2694883 , -0.00861671], dtype=float32)), (1, array([-0.20044036,  0.2418475 , -1.2788218 , -0.00817522], dtype=float32)), (2, array([-0.16939056,  0.14613804, -0.6333258 , -1.4021344 ], dtype=float32)), (2, array([ 0.11525731, -0.47836626,  0.38254097, -1.4027253 ], dtype=float32)), (1, array([-0.3771355 , -0.46660298, -0.2826742 , -0.00820522], dtype=float32)), (1, array([ 0.07495836,  1.1140699 , -1.1687423 , -0.01000853], dtype=float32)), (1, array([ 0.5382149 , -0.44008678,  0.36249483,  1.5693175 ], dtype=float32)), (2, array([-0.35340574, -0.3399412 ,  2.4918168 , -1.3904884 ], dtype=float32)), (2, array([ 0.11588757, -0.880012  ,  3.5439284 , -1.3911922 ], dtype=float32))]"
     ]
    }
   ],
   "source": [
    "row"
   ]
  },
  {
   "cell_type": "code",
   "execution_count": 37,
   "id": "2cc257e5-e647-4fe5-8feb-4edeffe6810f",
   "metadata": {
    "execution": {
     "iopub.execute_input": "2022-12-11T21:34:37.697944Z",
     "iopub.status.busy": "2022-12-11T21:34:37.697715Z",
     "iopub.status.idle": "2022-12-11T21:34:38.974706Z",
     "shell.execute_reply": "2022-12-11T21:34:38.974037Z",
     "shell.execute_reply.started": "2022-12-11T21:34:37.697920Z"
    },
    "tags": []
   },
   "outputs": [
    {
     "data": {
      "application/vnd.jupyter.widget-view+json": {
       "model_id": "7d3da18f367a473e956f01bb22c04f70",
       "version_major": 2,
       "version_minor": 0
      },
      "text/plain": [
       "VBox()"
      ]
     },
     "metadata": {},
     "output_type": "display_data"
    },
    {
     "data": {
      "application/vnd.jupyter.widget-view+json": {
       "model_id": "",
       "version_major": 2,
       "version_minor": 0
      },
      "text/plain": [
       "FloatProgress(value=0.0, bar_style='info', description='Progress:', layout=Layout(height='25px', width='50%'),…"
      ]
     },
     "metadata": {},
     "output_type": "display_data"
    }
   ],
   "source": [
    "dff = cluster_assignment_rdd.map(lambda x: (int(x[0]), Vectors.dense(x[1:])))\n",
    "\n",
    "mydf = spark.createDataFrame(dff,schema=[\"'n_cluster'\", \"features\"])\n",
    "\n"
   ]
  }
 ],
 "metadata": {
  "kernelspec": {
   "display_name": "PySpark",
   "language": "python",
   "name": "pysparkkernel"
  },
  "language_info": {
   "codemirror_mode": {
    "name": "python",
    "version": 3
   },
   "file_extension": ".py",
   "mimetype": "text/x-python",
   "name": "pyspark",
   "pygments_lexer": "python3"
  }
 },
 "nbformat": 4,
 "nbformat_minor": 5
}
