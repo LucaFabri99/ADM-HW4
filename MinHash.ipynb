{
 "cells": [
  {
   "cell_type": "code",
   "execution_count": 1,
   "id": "43613543-c983-4210-8b8b-0cd53f8432ee",
   "metadata": {},
   "outputs": [],
   "source": [
    "from datetime import datetime\n",
    "import datetime\n",
    "\n",
    "from tqdm import tqdm\n",
    "from datetime import date\n",
    "import pandas as pd\n",
    "import numpy as np\n",
    "import random as rdm\n"
   ]
  },
  {
   "cell_type": "code",
   "execution_count": 60,
   "id": "4192ffa7-940b-4bcd-ba33-d92232328061",
   "metadata": {},
   "outputs": [],
   "source": [
    "df_csv = pd.read_csv('bank_transactions.csv')"
   ]
  },
  {
   "cell_type": "code",
   "execution_count": 61,
   "id": "3683879e-ad92-4f3c-af25-ce5a348a10b9",
   "metadata": {},
   "outputs": [],
   "source": [
    "#drop some column and renamed\n",
    "df_ = df_csv[['CustomerID','CustGender','CustomerDOB','CustAccountBalance','TransactionAmount (INR)']]\n",
    "df_.columns= ['ID','Gender','DOB','CABalance','TransA']"
   ]
  },
  {
   "cell_type": "code",
   "execution_count": 48,
   "id": "44dab8fb-7e73-40aa-9b0e-9900ecb5d336",
   "metadata": {},
   "outputs": [
    {
     "data": {
      "text/html": [
       "<div>\n",
       "<style scoped>\n",
       "    .dataframe tbody tr th:only-of-type {\n",
       "        vertical-align: middle;\n",
       "    }\n",
       "\n",
       "    .dataframe tbody tr th {\n",
       "        vertical-align: top;\n",
       "    }\n",
       "\n",
       "    .dataframe thead th {\n",
       "        text-align: right;\n",
       "    }\n",
       "</style>\n",
       "<table border=\"1\" class=\"dataframe\">\n",
       "  <thead>\n",
       "    <tr style=\"text-align: right;\">\n",
       "      <th></th>\n",
       "      <th>ID</th>\n",
       "      <th>Gender</th>\n",
       "      <th>DOB</th>\n",
       "      <th>CABalance</th>\n",
       "      <th>TransA</th>\n",
       "    </tr>\n",
       "  </thead>\n",
       "  <tbody>\n",
       "    <tr>\n",
       "      <th>0</th>\n",
       "      <td>C5841053</td>\n",
       "      <td>F</td>\n",
       "      <td>10/1/94</td>\n",
       "      <td>17819.05</td>\n",
       "      <td>25.0</td>\n",
       "    </tr>\n",
       "    <tr>\n",
       "      <th>1</th>\n",
       "      <td>C2142763</td>\n",
       "      <td>M</td>\n",
       "      <td>4/4/57</td>\n",
       "      <td>2270.69</td>\n",
       "      <td>27999.0</td>\n",
       "    </tr>\n",
       "    <tr>\n",
       "      <th>2</th>\n",
       "      <td>C4417068</td>\n",
       "      <td>F</td>\n",
       "      <td>26/11/96</td>\n",
       "      <td>17874.44</td>\n",
       "      <td>459.0</td>\n",
       "    </tr>\n",
       "    <tr>\n",
       "      <th>3</th>\n",
       "      <td>C5342380</td>\n",
       "      <td>F</td>\n",
       "      <td>14/9/73</td>\n",
       "      <td>866503.21</td>\n",
       "      <td>2060.0</td>\n",
       "    </tr>\n",
       "    <tr>\n",
       "      <th>4</th>\n",
       "      <td>C9031234</td>\n",
       "      <td>F</td>\n",
       "      <td>24/3/88</td>\n",
       "      <td>6714.43</td>\n",
       "      <td>1762.5</td>\n",
       "    </tr>\n",
       "  </tbody>\n",
       "</table>\n",
       "</div>"
      ],
      "text/plain": [
       "         ID Gender       DOB  CABalance   TransA\n",
       "0  C5841053      F   10/1/94   17819.05     25.0\n",
       "1  C2142763      M    4/4/57    2270.69  27999.0\n",
       "2  C4417068      F  26/11/96   17874.44    459.0\n",
       "3  C5342380      F   14/9/73  866503.21   2060.0\n",
       "4  C9031234      F   24/3/88    6714.43   1762.5"
      ]
     },
     "execution_count": 48,
     "metadata": {},
     "output_type": "execute_result"
    }
   ],
   "source": [
    "df_.head()"
   ]
  },
  {
   "cell_type": "code",
   "execution_count": 34,
   "id": "1a16fc93-ff66-4e95-b501-7669c963d2ae",
   "metadata": {
    "scrolled": true
   },
   "outputs": [
    {
     "name": "stderr",
     "output_type": "stream",
     "text": [
      "/var/folders/cg/glf2wdrs1_q18pg9grzgpjqr0000gp/T/ipykernel_51737/1441423561.py:1: SettingWithCopyWarning: \n",
      "A value is trying to be set on a copy of a slice from a DataFrame.\n",
      "Try using .loc[row_indexer,col_indexer] = value instead\n",
      "\n",
      "See the caveats in the documentation: https://pandas.pydata.org/pandas-docs/stable/user_guide/indexing.html#returning-a-view-versus-a-copy\n",
      "  df_.DOB=pd.to_datetime(df_.DOB)\n"
     ]
    }
   ],
   "source": [
    "df_.DOB=pd.to_datetime(df_.DOB)"
   ]
  },
  {
   "cell_type": "markdown",
   "id": "1193e434",
   "metadata": {},
   "source": [
    "To build the characteristic matrix, we will create some membership intervals.\n",
    "The number of intervals and the way to define them has been changed several times. The idea was not to leave practically empty intervals, but to have a certain number of them and then reduce it in the permutation phase."
   ]
  },
  {
   "cell_type": "code",
   "execution_count": 6,
   "id": "a4ef09f4-5509-4fed-bd00-d9152973e065",
   "metadata": {},
   "outputs": [],
   "source": [
    "def age(x):\n",
    "    today = date.today()\n",
    "    if today.year <= x.year or today.year - x.year > 100:\n",
    "        return 0\n",
    "    else:\n",
    "        age = today.year - x.year - ((today.month, today.day) < (x.month, x.day))\n",
    "    return age\n",
    "\n",
    "def age_class(x):\n",
    "    if x <= 15: return 0\n",
    "    elif x > 15 and x <=25: return 1\n",
    "    elif x > 25 and x <=35: return 2\n",
    "    elif x > 35 and x <=45: return 3\n",
    "    elif x > 45: return 4\n"
   ]
  },
  {
   "cell_type": "code",
   "execution_count": 7,
   "id": "f0ece796-dc98-48d7-9e02-ddeeb1ed88ac",
   "metadata": {},
   "outputs": [],
   "source": [
    "CABmean = df_.CABalance.mean()\n",
    "CABmin = df_.CABalance.min()\n",
    "CABmax = df_.CABalance.max()\n",
    "bins_CAB = np.linspace(CABmin, 2*CABmean, 50)\n",
    "def CAB_class(x):\n",
    "    clas=0\n",
    "    if x > 2*CABmean:\n",
    "        clas=50\n",
    "    else:\n",
    "        for i in range(len(bins_CAB)-1):\n",
    "            if x >= bins_CAB[i] and x < bins_CAB[i+1]:\n",
    "                clas=i\n",
    "                break\n",
    "    return clas\n",
    "    "
   ]
  },
  {
   "cell_type": "code",
   "execution_count": 8,
   "id": "011ec29f-a319-4fae-b8e2-75c81f3bc96d",
   "metadata": {},
   "outputs": [],
   "source": [
    "Trans_mean = df_.TransA.mean()\n",
    "Trans_min = df_.TransA.min()\n",
    "Trans_max = df_.TransA.max()\n",
    "bins_T = np.linspace(Trans_min, 2*Trans_mean, 50)\n",
    "def Trans_class(x):\n",
    "    clas=0\n",
    "    if x > 2*Trans_mean:\n",
    "        clas=50\n",
    "    else:\n",
    "        for i in range(len(bins_T)-1):\n",
    "            if x >= bins_T[i] and x < bins_T[i+1]:\n",
    "                clas=i\n",
    "                break\n",
    "    return clas\n",
    "    "
   ]
  },
  {
   "cell_type": "code",
   "execution_count": 9,
   "id": "1d61286e-9f0f-43de-9d4a-7b60ea7e9bd7",
   "metadata": {},
   "outputs": [],
   "source": [
    "new_df=pd.DataFrame()\n",
    "new_df['ID']=df_.ID  \n",
    "new_df['CAB']=df_.CABalance.apply(lambda x: CAB_class(x) )  # 50 class\n",
    "new_df['Trans']=df_.TransA.apply(lambda x: Trans_class(x) )  # 50 class\n",
    "new_df['Age']=df_.DOB.apply(lambda x: age_class(age(x)) )  # 5 class\n",
    "new_df['Gender']=df_.Gender.apply(lambda x: 0 if x=='M' else 1)  # 2 class"
   ]
  },
  {
   "cell_type": "code",
   "execution_count": 10,
   "id": "4578d3e7-372b-4202-8267-b67fd2bd80b5",
   "metadata": {},
   "outputs": [
    {
     "data": {
      "text/plain": [
       "0          2\n",
       "1          0\n",
       "2          2\n",
       "3          4\n",
       "4          2\n",
       "          ..\n",
       "1048562    2\n",
       "1048563    2\n",
       "1048564    2\n",
       "1048565    3\n",
       "1048566    3\n",
       "Name: Age, Length: 1045170, dtype: int64"
      ]
     },
     "execution_count": 10,
     "metadata": {},
     "output_type": "execute_result"
    }
   ],
   "source": [
    "new_df=new_df.dropna()\n",
    "new_df.Age.astype(int)"
   ]
  },
  {
   "cell_type": "code",
   "execution_count": 99,
   "id": "7a1e568d-ff7a-44b1-a174-d4dfee924773",
   "metadata": {},
   "outputs": [
    {
     "data": {
      "text/html": [
       "<div>\n",
       "<style scoped>\n",
       "    .dataframe tbody tr th:only-of-type {\n",
       "        vertical-align: middle;\n",
       "    }\n",
       "\n",
       "    .dataframe tbody tr th {\n",
       "        vertical-align: top;\n",
       "    }\n",
       "\n",
       "    .dataframe thead th {\n",
       "        text-align: right;\n",
       "    }\n",
       "</style>\n",
       "<table border=\"1\" class=\"dataframe\">\n",
       "  <thead>\n",
       "    <tr style=\"text-align: right;\">\n",
       "      <th></th>\n",
       "      <th>ID</th>\n",
       "      <th>CAB</th>\n",
       "      <th>Trans</th>\n",
       "      <th>Age</th>\n",
       "      <th>Gender</th>\n",
       "    </tr>\n",
       "  </thead>\n",
       "  <tbody>\n",
       "    <tr>\n",
       "      <th>0</th>\n",
       "      <td>C5841053</td>\n",
       "      <td>3</td>\n",
       "      <td>0</td>\n",
       "      <td>2.0</td>\n",
       "      <td>1</td>\n",
       "    </tr>\n",
       "    <tr>\n",
       "      <th>1</th>\n",
       "      <td>C2142763</td>\n",
       "      <td>0</td>\n",
       "      <td>50</td>\n",
       "      <td>0.0</td>\n",
       "      <td>0</td>\n",
       "    </tr>\n",
       "    <tr>\n",
       "      <th>2</th>\n",
       "      <td>C4417068</td>\n",
       "      <td>3</td>\n",
       "      <td>7</td>\n",
       "      <td>2.0</td>\n",
       "      <td>1</td>\n",
       "    </tr>\n",
       "    <tr>\n",
       "      <th>3</th>\n",
       "      <td>C5342380</td>\n",
       "      <td>50</td>\n",
       "      <td>32</td>\n",
       "      <td>4.0</td>\n",
       "      <td>1</td>\n",
       "    </tr>\n",
       "    <tr>\n",
       "      <th>4</th>\n",
       "      <td>C9031234</td>\n",
       "      <td>1</td>\n",
       "      <td>27</td>\n",
       "      <td>2.0</td>\n",
       "      <td>1</td>\n",
       "    </tr>\n",
       "    <tr>\n",
       "      <th>...</th>\n",
       "      <td>...</td>\n",
       "      <td>...</td>\n",
       "      <td>...</td>\n",
       "      <td>...</td>\n",
       "      <td>...</td>\n",
       "    </tr>\n",
       "    <tr>\n",
       "      <th>1048562</th>\n",
       "      <td>C8020229</td>\n",
       "      <td>1</td>\n",
       "      <td>12</td>\n",
       "      <td>2.0</td>\n",
       "      <td>0</td>\n",
       "    </tr>\n",
       "    <tr>\n",
       "      <th>1048563</th>\n",
       "      <td>C6459278</td>\n",
       "      <td>5</td>\n",
       "      <td>7</td>\n",
       "      <td>2.0</td>\n",
       "      <td>0</td>\n",
       "    </tr>\n",
       "    <tr>\n",
       "      <th>1048564</th>\n",
       "      <td>C6412354</td>\n",
       "      <td>47</td>\n",
       "      <td>11</td>\n",
       "      <td>2.0</td>\n",
       "      <td>0</td>\n",
       "    </tr>\n",
       "    <tr>\n",
       "      <th>1048565</th>\n",
       "      <td>C6420483</td>\n",
       "      <td>2</td>\n",
       "      <td>15</td>\n",
       "      <td>3.0</td>\n",
       "      <td>0</td>\n",
       "    </tr>\n",
       "    <tr>\n",
       "      <th>1048566</th>\n",
       "      <td>C8337524</td>\n",
       "      <td>16</td>\n",
       "      <td>18</td>\n",
       "      <td>3.0</td>\n",
       "      <td>0</td>\n",
       "    </tr>\n",
       "  </tbody>\n",
       "</table>\n",
       "<p>1045170 rows × 5 columns</p>\n",
       "</div>"
      ],
      "text/plain": [
       "               ID  CAB  Trans  Age  Gender\n",
       "0        C5841053    3      0  2.0       1\n",
       "1        C2142763    0     50  0.0       0\n",
       "2        C4417068    3      7  2.0       1\n",
       "3        C5342380   50     32  4.0       1\n",
       "4        C9031234    1     27  2.0       1\n",
       "...           ...  ...    ...  ...     ...\n",
       "1048562  C8020229    1     12  2.0       0\n",
       "1048563  C6459278    5      7  2.0       0\n",
       "1048564  C6412354   47     11  2.0       0\n",
       "1048565  C6420483    2     15  3.0       0\n",
       "1048566  C8337524   16     18  3.0       0\n",
       "\n",
       "[1045170 rows x 5 columns]"
      ]
     },
     "execution_count": 99,
     "metadata": {},
     "output_type": "execute_result"
    }
   ],
   "source": [
    "new_df"
   ]
  },
  {
   "cell_type": "code",
   "execution_count": 100,
   "id": "a9d0490e-1c3e-4be9-8a95-b5d9573e0554",
   "metadata": {},
   "outputs": [
    {
     "data": {
      "text/html": [
       "<div>\n",
       "<style scoped>\n",
       "    .dataframe tbody tr th:only-of-type {\n",
       "        vertical-align: middle;\n",
       "    }\n",
       "\n",
       "    .dataframe tbody tr th {\n",
       "        vertical-align: top;\n",
       "    }\n",
       "\n",
       "    .dataframe thead th {\n",
       "        text-align: right;\n",
       "    }\n",
       "</style>\n",
       "<table border=\"1\" class=\"dataframe\">\n",
       "  <thead>\n",
       "    <tr style=\"text-align: right;\">\n",
       "      <th></th>\n",
       "      <th>CAB</th>\n",
       "      <th>Trans</th>\n",
       "      <th>Age</th>\n",
       "      <th>Gender</th>\n",
       "    </tr>\n",
       "  </thead>\n",
       "  <tbody>\n",
       "    <tr>\n",
       "      <th>count</th>\n",
       "      <td>1.045170e+06</td>\n",
       "      <td>1.045170e+06</td>\n",
       "      <td>1.045170e+06</td>\n",
       "      <td>1.045170e+06</td>\n",
       "    </tr>\n",
       "    <tr>\n",
       "      <th>mean</th>\n",
       "      <td>1.019271e+01</td>\n",
       "      <td>1.314349e+01</td>\n",
       "      <td>2.146427e+00</td>\n",
       "      <td>2.701647e-01</td>\n",
       "    </tr>\n",
       "    <tr>\n",
       "      <th>std</th>\n",
       "      <td>1.529700e+01</td>\n",
       "      <td>1.553733e+01</td>\n",
       "      <td>1.007966e+00</td>\n",
       "      <td>4.440449e-01</td>\n",
       "    </tr>\n",
       "    <tr>\n",
       "      <th>min</th>\n",
       "      <td>0.000000e+00</td>\n",
       "      <td>0.000000e+00</td>\n",
       "      <td>0.000000e+00</td>\n",
       "      <td>0.000000e+00</td>\n",
       "    </tr>\n",
       "    <tr>\n",
       "      <th>25%</th>\n",
       "      <td>0.000000e+00</td>\n",
       "      <td>2.000000e+00</td>\n",
       "      <td>2.000000e+00</td>\n",
       "      <td>0.000000e+00</td>\n",
       "    </tr>\n",
       "    <tr>\n",
       "      <th>50%</th>\n",
       "      <td>3.000000e+00</td>\n",
       "      <td>7.000000e+00</td>\n",
       "      <td>2.000000e+00</td>\n",
       "      <td>0.000000e+00</td>\n",
       "    </tr>\n",
       "    <tr>\n",
       "      <th>75%</th>\n",
       "      <td>1.200000e+01</td>\n",
       "      <td>1.800000e+01</td>\n",
       "      <td>3.000000e+00</td>\n",
       "      <td>1.000000e+00</td>\n",
       "    </tr>\n",
       "    <tr>\n",
       "      <th>max</th>\n",
       "      <td>5.000000e+01</td>\n",
       "      <td>5.000000e+01</td>\n",
       "      <td>4.000000e+00</td>\n",
       "      <td>1.000000e+00</td>\n",
       "    </tr>\n",
       "  </tbody>\n",
       "</table>\n",
       "</div>"
      ],
      "text/plain": [
       "                CAB         Trans           Age        Gender\n",
       "count  1.045170e+06  1.045170e+06  1.045170e+06  1.045170e+06\n",
       "mean   1.019271e+01  1.314349e+01  2.146427e+00  2.701647e-01\n",
       "std    1.529700e+01  1.553733e+01  1.007966e+00  4.440449e-01\n",
       "min    0.000000e+00  0.000000e+00  0.000000e+00  0.000000e+00\n",
       "25%    0.000000e+00  2.000000e+00  2.000000e+00  0.000000e+00\n",
       "50%    3.000000e+00  7.000000e+00  2.000000e+00  0.000000e+00\n",
       "75%    1.200000e+01  1.800000e+01  3.000000e+00  1.000000e+00\n",
       "max    5.000000e+01  5.000000e+01  4.000000e+00  1.000000e+00"
      ]
     },
     "execution_count": 100,
     "metadata": {},
     "output_type": "execute_result"
    }
   ],
   "source": [
    "new_df.describe()\n"
   ]
  },
  {
   "cell_type": "markdown",
   "id": "f85c6e28-324b-4965-8ae7-cf3aee6d299a",
   "metadata": {},
   "source": [
    "We have built but $Characteristic$-$Matrix$.\n",
    "where the columns correspond to the users, while the rows represent the features. for each feature there will be a specific number of rows, which will correspond to a particular class of membership of that specific feature. the intervals defined for the features change from one to another as needed."
   ]
  },
  {
   "cell_type": "code",
   "execution_count": 101,
   "id": "02ebc81c-553b-48fc-b1ec-3647617cb14e",
   "metadata": {},
   "outputs": [
    {
     "name": "stderr",
     "output_type": "stream",
     "text": [
      "100%|██████████| 1045170/1045170 [06:34<00:00, 2648.29it/s]\n"
     ]
    }
   ],
   "source": [
    "char_matrix = np.zeros((107 ,len(new_df)),dtype=('int')) # 107 = total classes\n",
    "for i in tqdm(range(len(new_df)) ):\n",
    "    char_matrix[new_df.iloc[i]['CAB'], i] = 1\n",
    "    char_matrix[new_df.iloc[i]['Trans']+50, i] = 1\n",
    "    char_matrix[int(new_df.iloc[i]['Age'])+100, i] = 1\n",
    "    char_matrix[new_df.iloc[i]['Gender']+105, i] = 1\n",
    "      "
   ]
  },
  {
   "cell_type": "code",
   "execution_count": 102,
   "id": "2e13c852-13b5-4517-a707-0e0b44d7b678",
   "metadata": {},
   "outputs": [],
   "source": [
    "np.save('char_matrix.npy', char_matrix )"
   ]
  },
  {
   "cell_type": "code",
   "execution_count": 11,
   "id": "c159b57a-19bc-4b1c-a15e-a5e400e9c86b",
   "metadata": {},
   "outputs": [],
   "source": [
    "C_M=np.load('char_matrix.npy')"
   ]
  },
  {
   "cell_type": "code",
   "execution_count": 12,
   "id": "ccc3d4fd-f314-43c1-9b11-3b0fb8161bc8",
   "metadata": {},
   "outputs": [
    {
     "data": {
      "text/plain": [
       "array([[0, 1, 0, ..., 0, 0, 0],\n",
       "       [0, 0, 0, ..., 0, 0, 0],\n",
       "       [0, 0, 0, ..., 0, 1, 0],\n",
       "       ...,\n",
       "       [0, 0, 0, ..., 0, 0, 0],\n",
       "       [0, 1, 0, ..., 1, 1, 1],\n",
       "       [1, 0, 1, ..., 0, 0, 0]])"
      ]
     },
     "execution_count": 12,
     "metadata": {},
     "output_type": "execute_result"
    }
   ],
   "source": [
    "C_M"
   ]
  },
  {
   "cell_type": "code",
   "execution_count": 119,
   "id": "2da4aa2e-f3c3-4340-8f7c-a97223c45ebd",
   "metadata": {},
   "outputs": [
    {
     "name": "stdout",
     "output_type": "stream",
     "text": [
      "(107, 1045170) 111833190\n"
     ]
    }
   ],
   "source": [
    "print(C_M.shape, C_M.size)"
   ]
  },
  {
   "cell_type": "code",
   "execution_count": 13,
   "id": "d5746e99-2663-44a0-a691-4ec168976931",
   "metadata": {},
   "outputs": [],
   "source": [
    "from itertools import permutations"
   ]
  },
  {
   "cell_type": "markdown",
   "id": "0923dd41-1aee-4d47-a29a-38104cc91259",
   "metadata": {},
   "source": [
    "Create 20 permutation with lenght=107, the number of row of the $Characteristic$-$Matrix$."
   ]
  },
  {
   "cell_type": "code",
   "execution_count": 15,
   "id": "f87052e6-a575-4b6a-bb38-462106ce49e7",
   "metadata": {},
   "outputs": [],
   "source": [
    "h=list()\n",
    "x=0\n",
    "while x<20: \n",
    "    s=list(np.random.permutation(107))\n",
    "    if s not in h:\n",
    "        h.append(s)\n",
    "        x+=1\n",
    "\n"
   ]
  },
  {
   "cell_type": "code",
   "execution_count": null,
   "id": "60079f31-b13e-47c0-ba60-4e43142b92f8",
   "metadata": {},
   "outputs": [],
   "source": [
    "np.save('list_of_permutations.npy', h )"
   ]
  },
  {
   "cell_type": "code",
   "execution_count": 151,
   "id": "02497ddd-15d2-4f35-9285-a0f6ccdf7dbb",
   "metadata": {},
   "outputs": [],
   "source": [
    "h=np.load('list_of_permutations.npy')"
   ]
  },
  {
   "cell_type": "code",
   "execution_count": 152,
   "id": "38572841-f0e2-4158-8cef-826faf260716",
   "metadata": {},
   "outputs": [
    {
     "data": {
      "text/plain": [
       "array([[ 97, 104,  74, ...,  41,  95,  77],\n",
       "       [ 60,  61,  98, ...,  20,  27,   1],\n",
       "       [  2, 106,  60, ...,  72,  45,  12],\n",
       "       ...,\n",
       "       [  8,  17,  36, ...,  79,  87,  40],\n",
       "       [ 66,  73,  22, ...,  46, 103,  11],\n",
       "       [ 43,  54,  72, ...,  41,  52,  98]])"
      ]
     },
     "execution_count": 152,
     "metadata": {},
     "output_type": "execute_result"
    }
   ],
   "source": [
    "h"
   ]
  },
  {
   "cell_type": "markdown",
   "id": "a651b5e4-02d7-428a-bbdb-53299a25cc30",
   "metadata": {},
   "source": [
    "Build signature matrix(g) with h. which is a list of 20 permutation of the $Characteristic$-$Matrix$ row's."
   ]
  },
  {
   "cell_type": "code",
   "execution_count": 153,
   "id": "2c3e4dd6-6603-4bac-b89c-ddd32c34bdee",
   "metadata": {},
   "outputs": [
    {
     "name": "stderr",
     "output_type": "stream",
     "text": [
      "100%|██████████| 20/20 [05:06<00:00, 15.35s/it]\n"
     ]
    }
   ],
   "source": [
    "g=np.zeros((len(h) ,len(C_M[0])),dtype=('int'))\n",
    "for i in tqdm(range(len(h))):  \n",
    "    for s in range(len(C_M[0])):\n",
    "        for j in range(len(h[0])): \n",
    "            r=h[i][j]\n",
    "            if C_M[r][s] == 1:\n",
    "                g[i][s]=j\n",
    "                break\n",
    "    \n"
   ]
  },
  {
   "cell_type": "code",
   "execution_count": 155,
   "id": "0926a988-ac20-4e05-9fd4-b5edb5fe5c03",
   "metadata": {},
   "outputs": [],
   "source": [
    "np.save('signature_matrix.npy', g )"
   ]
  },
  {
   "cell_type": "code",
   "execution_count": 157,
   "id": "36054cd6-d0cb-4b19-af33-abf1fbe556f3",
   "metadata": {},
   "outputs": [],
   "source": [
    "g=np.load('signature_matrix.npy')\n",
    "h=np.load('list_of_permutations.npy')"
   ]
  },
  {
   "cell_type": "markdown",
   "id": "aee25b12-69af-4121-8896-44796bc98cd9",
   "metadata": {},
   "source": [
    "Let's build a list of dictionaries. Each dictionary consists of a certain number of buckets and refers to a suitable band.\n",
    "Now given a query, its values will be transformed into ranges, a boolean vector will be created and through the previous permutations(h), its(the query's) minhash image will be created, it will be cut and compared(piece by piece) with the dictionary keys.\n",
    "So since we have 4 bands, each one of 5 lines,\n",
    "our minhash image will be cut into 4 parts by 5, and the first part will be matched with the keys of the first dictionary, the second with the keys of the second and so on. Found the corresponding keys we will have in the values of those keys the candidate transactions to be similar to our query."
   ]
  },
  {
   "cell_type": "code",
   "execution_count": 158,
   "id": "e1ce7d6e-f368-458d-ab08-bd0f46622fd4",
   "metadata": {},
   "outputs": [
    {
     "name": "stderr",
     "output_type": "stream",
     "text": [
      "100%|██████████| 5/5 [00:09<00:00,  1.91s/it]\n"
     ]
    }
   ],
   "source": [
    "b = 5 # number of bands\n",
    "r = len(g)//b # number of row for each bands\n",
    "buckets_list= []\n",
    "for bands in tqdm(range(b)):\n",
    "    dic={}\n",
    "    #I check the list of documents just one time and I insert\n",
    "    #the document in the dictionary checking if it exist or not\n",
    "    for indice in range(len(g[0])):\n",
    "        a=(g[0 + r*bands][indice],g[1 + r*bands][indice],g[2 + r*bands][indice],g[3 + r*bands][indice])\n",
    "        if a in dic:\n",
    "            dic[a].append(indice)\n",
    "        else:\n",
    "            dic[a]=[indice]\n",
    "    buckets={}\n",
    "    #I delete every items with only one element, \n",
    "    #it means that element has not similar documents\n",
    "    for key, item in dic.items():\n",
    "        if len(item)!=1:\n",
    "            buckets[key]=item\n",
    "    buckets_list.append(buckets)"
   ]
  },
  {
   "cell_type": "code",
   "execution_count": null,
   "id": "5a26d3a6-158b-42a7-893f-cc248e0ae2eb",
   "metadata": {},
   "outputs": [],
   "source": [
    "np.save('buckets_list.npy', buckets_list )"
   ]
  },
  {
   "cell_type": "code",
   "execution_count": null,
   "id": "87227985-e1ed-4cf1-8f2a-b87a2345eb5b",
   "metadata": {},
   "outputs": [],
   "source": [
    "buckets_list =np.load('buckets_list.npy')"
   ]
  },
  {
   "cell_type": "code",
   "execution_count": 160,
   "id": "3b3ccdf4-9eed-49ae-ad27-d9bd93d39285",
   "metadata": {},
   "outputs": [
    {
     "name": "stdout",
     "output_type": "stream",
     "text": [
      "25197\n"
     ]
    }
   ],
   "source": [
    "#total number of buckets\n",
    "c=0\n",
    "for i in range(b):\n",
    "    c+=len(buckets_list[i].keys())\n",
    "print(c)    "
   ]
  },
  {
   "cell_type": "markdown",
   "id": "93afbaf7-0e00-441c-b3e7-9da267e1c418",
   "metadata": {},
   "source": [
    "Query preprocessing:"
   ]
  },
  {
   "cell_type": "code",
   "execution_count": 161,
   "id": "09f15277-276b-45d6-9a3d-38e0d9fde91d",
   "metadata": {},
   "outputs": [
    {
     "name": "stderr",
     "output_type": "stream",
     "text": [
      "/var/folders/cg/glf2wdrs1_q18pg9grzgpjqr0000gp/T/ipykernel_51737/221808561.py:2: SettingWithCopyWarning: \n",
      "A value is trying to be set on a copy of a slice from a DataFrame.\n",
      "Try using .loc[row_indexer,col_indexer] = value instead\n",
      "\n",
      "See the caveats in the documentation: https://pandas.pydata.org/pandas-docs/stable/user_guide/indexing.html#returning-a-view-versus-a-copy\n",
      "  df.DOB=pd.to_datetime(df.DOB)\n"
     ]
    }
   ],
   "source": [
    "df=df_.iloc[[0]] # take the firt row as a query \n",
    "df.DOB=pd.to_datetime(df.DOB)"
   ]
  },
  {
   "cell_type": "code",
   "execution_count": 162,
   "id": "f6a929be-35d0-4acb-89fc-d90ea04e2730",
   "metadata": {},
   "outputs": [
    {
     "data": {
      "text/html": [
       "<div>\n",
       "<style scoped>\n",
       "    .dataframe tbody tr th:only-of-type {\n",
       "        vertical-align: middle;\n",
       "    }\n",
       "\n",
       "    .dataframe tbody tr th {\n",
       "        vertical-align: top;\n",
       "    }\n",
       "\n",
       "    .dataframe thead th {\n",
       "        text-align: right;\n",
       "    }\n",
       "</style>\n",
       "<table border=\"1\" class=\"dataframe\">\n",
       "  <thead>\n",
       "    <tr style=\"text-align: right;\">\n",
       "      <th></th>\n",
       "      <th>ID</th>\n",
       "      <th>Gender</th>\n",
       "      <th>DOB</th>\n",
       "      <th>CABalance</th>\n",
       "      <th>TransA</th>\n",
       "    </tr>\n",
       "  </thead>\n",
       "  <tbody>\n",
       "    <tr>\n",
       "      <th>0</th>\n",
       "      <td>C5841053</td>\n",
       "      <td>F</td>\n",
       "      <td>1994-10-01</td>\n",
       "      <td>17819.05</td>\n",
       "      <td>25.0</td>\n",
       "    </tr>\n",
       "  </tbody>\n",
       "</table>\n",
       "</div>"
      ],
      "text/plain": [
       "         ID Gender        DOB  CABalance  TransA\n",
       "0  C5841053      F 1994-10-01   17819.05    25.0"
      ]
     },
     "execution_count": 162,
     "metadata": {},
     "output_type": "execute_result"
    }
   ],
   "source": [
    "df"
   ]
  },
  {
   "cell_type": "markdown",
   "id": "a998c3d7-cf90-4433-80b3-b14111e9d45a",
   "metadata": {},
   "source": [
    "Now, given a query we want to find its candidates to be similar.\n",
    "so it will be necessary to process the query in the same way we processed the elements of the dataset, find its images through the same permutations as before, and then compare them with the keys of our dictionaries, i.e. with the previously created buckets."
   ]
  },
  {
   "cell_type": "code",
   "execution_count": 163,
   "id": "6f091205-12d4-47cd-9d3e-a96b13dee3c2",
   "metadata": {},
   "outputs": [],
   "source": [
    "def query_process(df):\n",
    "    # divide query row in class \n",
    "    \n",
    "    q_df=df.copy()\n",
    "    q_df.CABalance[0]=CAB_class(q_df.CABalance[0])\n",
    "    q_df.TransA[0]=Trans_class(q_df.TransA[0]) \n",
    "    q_df.DOB[0]=age_class(age(q_df.DOB[0]))  \n",
    "    q_df.Gender[0]=( 0 if q_df.Gender[0]=='M' else 1)\n",
    "\n",
    "    # create boolean vector \n",
    "    vect= np.zeros((107 ,1),dtype=('int'))\n",
    "    vect[int(q_df.iloc[0]['CABalance']), 0] = 1\n",
    "    vect[int(q_df.iloc[0]['TransA'])+50, 0] = 1\n",
    "    vect[int(q_df.iloc[0]['DOB'])+100, 0] = 1\n",
    "    vect[q_df.iloc[0]['Gender']+105, 0] = 1\n",
    "    \n",
    "    # buid hash image of the query\n",
    "    has = np.zeros((len(h) ,1),dtype=('int'))\n",
    "    for i in range(len(h)):  \n",
    "        for j in range(len(h[0])): \n",
    "            r=h[i][j]\n",
    "            if vect[r][0] == 1:\n",
    "                has[i][0]=j\n",
    "                break\n",
    "    return has "
   ]
  },
  {
   "cell_type": "code",
   "execution_count": null,
   "id": "98ef1118-9daa-4a61-bedd-a16929c4ccac",
   "metadata": {},
   "outputs": [],
   "source": [
    "has=query_process(df)"
   ]
  },
  {
   "cell_type": "code",
   "execution_count": 166,
   "id": "4073122e-f25a-44c4-82b5-7b24df4e1545",
   "metadata": {},
   "outputs": [],
   "source": [
    "candid=[]\n",
    "for bas in range(b):\n",
    "    a=(has[0 + r*bas][0],has[1 + r*bas][0],has[2 + r*bas][0],has[3 + r*bas][0])\n",
    "    for kye, values in buckets_list[bas].items():\n",
    "        if a == kye:\n",
    "            candid.append(values)\n",
    "            break\n",
    "  "
   ]
  },
  {
   "cell_type": "code",
   "execution_count": null,
   "id": "fd2d27ce-6195-428f-b6f4-16e17861ebaf",
   "metadata": {},
   "outputs": [],
   "source": [
    "candid[]"
   ]
  },
  {
   "cell_type": "code",
   "execution_count": 169,
   "id": "7864389e-dfe2-497b-be02-350067771012",
   "metadata": {},
   "outputs": [],
   "source": [
    "cand=list(set(candid[0]) & set(candid[1]) & set(candid[2]) & set(candid[3]) & set(candid[4]))\n"
   ]
  },
  {
   "cell_type": "code",
   "execution_count": 171,
   "id": "e082fb44-0b54-4956-bd14-9d5fe908e4d5",
   "metadata": {},
   "outputs": [
    {
     "data": {
      "text/plain": [
       "1693"
      ]
     },
     "execution_count": 171,
     "metadata": {},
     "output_type": "execute_result"
    }
   ],
   "source": [
    "len(cand)\n"
   ]
  },
  {
   "cell_type": "code",
   "execution_count": 172,
   "id": "ae9540e7-ff63-435d-b3e1-9111186db8ba",
   "metadata": {},
   "outputs": [
    {
     "data": {
      "text/html": [
       "<div>\n",
       "<style scoped>\n",
       "    .dataframe tbody tr th:only-of-type {\n",
       "        vertical-align: middle;\n",
       "    }\n",
       "\n",
       "    .dataframe tbody tr th {\n",
       "        vertical-align: top;\n",
       "    }\n",
       "\n",
       "    .dataframe thead th {\n",
       "        text-align: right;\n",
       "    }\n",
       "</style>\n",
       "<table border=\"1\" class=\"dataframe\">\n",
       "  <thead>\n",
       "    <tr style=\"text-align: right;\">\n",
       "      <th></th>\n",
       "      <th>ID</th>\n",
       "      <th>CAB</th>\n",
       "      <th>Trans</th>\n",
       "      <th>Age</th>\n",
       "      <th>Gender</th>\n",
       "    </tr>\n",
       "  </thead>\n",
       "  <tbody>\n",
       "    <tr>\n",
       "      <th>0</th>\n",
       "      <td>C5841053</td>\n",
       "      <td>3</td>\n",
       "      <td>0</td>\n",
       "      <td>2.0</td>\n",
       "      <td>1</td>\n",
       "    </tr>\n",
       "    <tr>\n",
       "      <th>163851</th>\n",
       "      <td>C6035218</td>\n",
       "      <td>10</td>\n",
       "      <td>4</td>\n",
       "      <td>2.0</td>\n",
       "      <td>0</td>\n",
       "    </tr>\n",
       "    <tr>\n",
       "      <th>401420</th>\n",
       "      <td>C6696444</td>\n",
       "      <td>1</td>\n",
       "      <td>3</td>\n",
       "      <td>3.0</td>\n",
       "      <td>0</td>\n",
       "    </tr>\n",
       "    <tr>\n",
       "      <th>835596</th>\n",
       "      <td>C1513559</td>\n",
       "      <td>0</td>\n",
       "      <td>7</td>\n",
       "      <td>2.0</td>\n",
       "      <td>1</td>\n",
       "    </tr>\n",
       "    <tr>\n",
       "      <th>876559</th>\n",
       "      <td>C1313440</td>\n",
       "      <td>5</td>\n",
       "      <td>19</td>\n",
       "      <td>3.0</td>\n",
       "      <td>0</td>\n",
       "    </tr>\n",
       "    <tr>\n",
       "      <th>...</th>\n",
       "      <td>...</td>\n",
       "      <td>...</td>\n",
       "      <td>...</td>\n",
       "      <td>...</td>\n",
       "      <td>...</td>\n",
       "    </tr>\n",
       "    <tr>\n",
       "      <th>524274</th>\n",
       "      <td>C1421916</td>\n",
       "      <td>1</td>\n",
       "      <td>0</td>\n",
       "      <td>2.0</td>\n",
       "      <td>0</td>\n",
       "    </tr>\n",
       "    <tr>\n",
       "      <th>40950</th>\n",
       "      <td>C2113811</td>\n",
       "      <td>1</td>\n",
       "      <td>9</td>\n",
       "      <td>2.0</td>\n",
       "      <td>0</td>\n",
       "    </tr>\n",
       "    <tr>\n",
       "      <th>573434</th>\n",
       "      <td>C3721662</td>\n",
       "      <td>0</td>\n",
       "      <td>5</td>\n",
       "      <td>2.0</td>\n",
       "      <td>0</td>\n",
       "    </tr>\n",
       "    <tr>\n",
       "      <th>876541</th>\n",
       "      <td>C8617652</td>\n",
       "      <td>23</td>\n",
       "      <td>4</td>\n",
       "      <td>3.0</td>\n",
       "      <td>0</td>\n",
       "    </tr>\n",
       "    <tr>\n",
       "      <th>409598</th>\n",
       "      <td>C8933865</td>\n",
       "      <td>7</td>\n",
       "      <td>16</td>\n",
       "      <td>2.0</td>\n",
       "      <td>0</td>\n",
       "    </tr>\n",
       "  </tbody>\n",
       "</table>\n",
       "<p>1693 rows × 5 columns</p>\n",
       "</div>"
      ],
      "text/plain": [
       "              ID  CAB  Trans  Age  Gender\n",
       "0       C5841053    3      0  2.0       1\n",
       "163851  C6035218   10      4  2.0       0\n",
       "401420  C6696444    1      3  3.0       0\n",
       "835596  C1513559    0      7  2.0       1\n",
       "876559  C1313440    5     19  3.0       0\n",
       "...          ...  ...    ...  ...     ...\n",
       "524274  C1421916    1      0  2.0       0\n",
       "40950   C2113811    1      9  2.0       0\n",
       "573434  C3721662    0      5  2.0       0\n",
       "876541  C8617652   23      4  3.0       0\n",
       "409598  C8933865    7     16  2.0       0\n",
       "\n",
       "[1693 rows x 5 columns]"
      ]
     },
     "execution_count": 172,
     "metadata": {},
     "output_type": "execute_result"
    }
   ],
   "source": [
    "for row in new_df.loc[cand]"
   ]
  },
  {
   "cell_type": "code",
   "execution_count": null,
   "id": "1c57a0be-c29f-4beb-828d-dd937ed7640b",
   "metadata": {},
   "outputs": [],
   "source": []
  }
 ],
 "metadata": {
  "kernelspec": {
   "display_name": "Python 3 (ipykernel)",
   "language": "python",
   "name": "python3"
  },
  "language_info": {
   "codemirror_mode": {
    "name": "ipython",
    "version": 3
   },
   "file_extension": ".py",
   "mimetype": "text/x-python",
   "name": "python",
   "nbconvert_exporter": "python",
   "pygments_lexer": "ipython3",
   "version": "3.9.12"
  }
 },
 "nbformat": 4,
 "nbformat_minor": 5
}
