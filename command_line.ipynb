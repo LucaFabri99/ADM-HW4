{
 "cells": [
  {
   "cell_type": "markdown",
   "id": "1d8cd7c1-6652-4081-8b42-8a95e7b5e684",
   "metadata": {},
   "source": [
    "# 1. Which location has the maximum number of purchases been made?"
   ]
  },
  {
   "cell_type": "code",
   "execution_count": null,
   "id": "c6aa0c34-8298-4ad4-9731-654d05ea7291",
   "metadata": {},
   "outputs": [],
   "source": [
    "#Let's creat a sorted list of each location by their occurences \n",
    "cut -f 5 bank_transactions.tsv | sort | uniq -c | sort -nr > ordered_list\n",
    "\n",
    "#Then we get the first row, which is the location that has the maximum number of purchases been made\n",
    "echo The location that has the maximum number of purchases been made is $(head -n 1 ordered_list | sed 's/[^A-Z]*//g')\n",
    "\n",
    "#Let's delete the ordered_list\n",
    "rm ordered_list"
   ]
  },
  {
   "cell_type": "markdown",
   "id": "1362bffc-4352-48dd-81d6-461c555e99a8",
   "metadata": {},
   "source": [
    "# 2. In the dataset provided, did females spend more than males, or vice versa?"
   ]
  },
  {
   "cell_type": "code",
   "execution_count": null,
   "id": "6aa95b73-9846-4431-b0f1-eff5c62e5130",
   "metadata": {},
   "outputs": [],
   "source": [
    "#Let's get the rows that contain 'M' and let's sum all the CustAccountBalance\n",
    "echo Males have spent $( cut -f 4,6 bank_transactions.tsv | grep 'M' | awk '{total += $2}END{print total}')\n",
    "\n",
    "#Let's get the rows that contain 'F' and let's sum all the CustAccountBalance\n",
    "echo Females have spent $( cut -f 4,6 bank_transactions.tsv | grep 'F' | awk '{total += $2}END{print total}')"
   ]
  },
  {
   "cell_type": "markdown",
   "id": "71377eeb-5389-4736-9e8d-4e81777a7109",
   "metadata": {},
   "source": [
    "# 3. Report the customer with the highest average transaction amount in the dataset."
   ]
  },
  {
   "cell_type": "code",
   "execution_count": null,
   "id": "75f0486f-456a-428f-9b45-0be7f25d94fe",
   "metadata": {},
   "outputs": [],
   "source": [
    "#To do"
   ]
  },
  {
   "cell_type": "markdown",
   "id": "393fc30e-4c28-4b7c-bedc-5cd18e7a09da",
   "metadata": {},
   "source": [
    "# Check results"
   ]
  },
  {
   "cell_type": "code",
   "execution_count": 25,
   "id": "293a9a9c-1430-4fdd-99c9-d6e4f9f03115",
   "metadata": {},
   "outputs": [],
   "source": [
    "import pandas as pd\n",
    "import numpy as np"
   ]
  },
  {
   "cell_type": "code",
   "execution_count": 5,
   "id": "1e00e076-8c9e-4227-9af2-11bf8a320569",
   "metadata": {},
   "outputs": [],
   "source": [
    "df = pd.read_csv('bank_transactions.tsv', sep='\\t')"
   ]
  },
  {
   "cell_type": "code",
   "execution_count": 6,
   "id": "cbf31c4b-e5e0-4ae8-a760-44103c144da5",
   "metadata": {},
   "outputs": [
    {
     "data": {
      "text/html": [
       "<div>\n",
       "<style scoped>\n",
       "    .dataframe tbody tr th:only-of-type {\n",
       "        vertical-align: middle;\n",
       "    }\n",
       "\n",
       "    .dataframe tbody tr th {\n",
       "        vertical-align: top;\n",
       "    }\n",
       "\n",
       "    .dataframe thead th {\n",
       "        text-align: right;\n",
       "    }\n",
       "</style>\n",
       "<table border=\"1\" class=\"dataframe\">\n",
       "  <thead>\n",
       "    <tr style=\"text-align: right;\">\n",
       "      <th></th>\n",
       "      <th>TransactionID</th>\n",
       "      <th>CustomerID</th>\n",
       "      <th>CustomerDOB</th>\n",
       "      <th>CustGender</th>\n",
       "      <th>CustLocation</th>\n",
       "      <th>CustAccountBalance</th>\n",
       "      <th>TransactionDate</th>\n",
       "      <th>TransactionTime</th>\n",
       "      <th>TransactionAmount (INR)</th>\n",
       "    </tr>\n",
       "  </thead>\n",
       "  <tbody>\n",
       "    <tr>\n",
       "      <th>0</th>\n",
       "      <td>T1</td>\n",
       "      <td>C5841053</td>\n",
       "      <td>10/1/94</td>\n",
       "      <td>F</td>\n",
       "      <td>JAMSHEDPUR</td>\n",
       "      <td>17819.05</td>\n",
       "      <td>2/8/16</td>\n",
       "      <td>143207</td>\n",
       "      <td>25.0</td>\n",
       "    </tr>\n",
       "    <tr>\n",
       "      <th>1</th>\n",
       "      <td>T2</td>\n",
       "      <td>C2142763</td>\n",
       "      <td>4/4/57</td>\n",
       "      <td>M</td>\n",
       "      <td>JHAJJAR</td>\n",
       "      <td>2270.69</td>\n",
       "      <td>2/8/16</td>\n",
       "      <td>141858</td>\n",
       "      <td>27999.0</td>\n",
       "    </tr>\n",
       "    <tr>\n",
       "      <th>2</th>\n",
       "      <td>T3</td>\n",
       "      <td>C4417068</td>\n",
       "      <td>26/11/96</td>\n",
       "      <td>F</td>\n",
       "      <td>MUMBAI</td>\n",
       "      <td>17874.44</td>\n",
       "      <td>2/8/16</td>\n",
       "      <td>142712</td>\n",
       "      <td>459.0</td>\n",
       "    </tr>\n",
       "    <tr>\n",
       "      <th>3</th>\n",
       "      <td>T4</td>\n",
       "      <td>C5342380</td>\n",
       "      <td>14/9/73</td>\n",
       "      <td>F</td>\n",
       "      <td>MUMBAI</td>\n",
       "      <td>866503.21</td>\n",
       "      <td>2/8/16</td>\n",
       "      <td>142714</td>\n",
       "      <td>2060.0</td>\n",
       "    </tr>\n",
       "    <tr>\n",
       "      <th>4</th>\n",
       "      <td>T5</td>\n",
       "      <td>C9031234</td>\n",
       "      <td>24/3/88</td>\n",
       "      <td>F</td>\n",
       "      <td>NAVI MUMBAI</td>\n",
       "      <td>6714.43</td>\n",
       "      <td>2/8/16</td>\n",
       "      <td>181156</td>\n",
       "      <td>1762.5</td>\n",
       "    </tr>\n",
       "  </tbody>\n",
       "</table>\n",
       "</div>"
      ],
      "text/plain": [
       "   TransactionID CustomerID CustomerDOB CustGender CustLocation  \\\n",
       "0             T1   C5841053     10/1/94          F   JAMSHEDPUR   \n",
       "1             T2   C2142763      4/4/57          M      JHAJJAR   \n",
       "2             T3   C4417068    26/11/96          F       MUMBAI   \n",
       "3             T4   C5342380     14/9/73          F       MUMBAI   \n",
       "4             T5   C9031234     24/3/88          F  NAVI MUMBAI   \n",
       "\n",
       "   CustAccountBalance TransactionDate  TransactionTime  \\\n",
       "0            17819.05          2/8/16           143207   \n",
       "1             2270.69          2/8/16           141858   \n",
       "2            17874.44          2/8/16           142712   \n",
       "3           866503.21          2/8/16           142714   \n",
       "4             6714.43          2/8/16           181156   \n",
       "\n",
       "   TransactionAmount (INR)  \n",
       "0                     25.0  \n",
       "1                  27999.0  \n",
       "2                    459.0  \n",
       "3                   2060.0  \n",
       "4                   1762.5  "
      ]
     },
     "execution_count": 6,
     "metadata": {},
     "output_type": "execute_result"
    }
   ],
   "source": [
    "df.head()"
   ]
  },
  {
   "cell_type": "markdown",
   "id": "7c3aa44f-80b0-43ef-adb5-06abc4ce2a18",
   "metadata": {},
   "source": [
    "## 1. Which location has the maximum number of purchases been made?"
   ]
  },
  {
   "cell_type": "code",
   "execution_count": 17,
   "id": "b691b02d-020e-4afc-8c9b-9eed465587cf",
   "metadata": {},
   "outputs": [
    {
     "name": "stdout",
     "output_type": "stream",
     "text": [
      "MUMBAI\n"
     ]
    }
   ],
   "source": [
    "print(df[['CustLocation','CustAccountBalance']].groupby('CustLocation').count().sort_values(by='CustAccountBalance', ascending=False).head(1).index[0])"
   ]
  },
  {
   "cell_type": "markdown",
   "id": "68cdcbe6-d6cb-47de-b802-ace7053b087b",
   "metadata": {},
   "source": [
    "## 2. In the dataset provided, did females spend more than males, or vice versa?"
   ]
  },
  {
   "cell_type": "code",
   "execution_count": 37,
   "id": "11099c9f-7217-4e45-ab39-9947676a219f",
   "metadata": {},
   "outputs": [
    {
     "name": "stdout",
     "output_type": "stream",
     "text": [
      "Males have spent  89,819,734,670.069992\n",
      "\n",
      "Females have spent  30,883,555,291.419994\n"
     ]
    }
   ],
   "source": [
    "print('Males have spent ','{:,f}'.format(df[df.CustGender == 'M'].CustAccountBalance.sum()))\n",
    "print('')\n",
    "print('Females have spent ','{:,f}'.format(df[df.CustGender == 'F'].CustAccountBalance.sum()))"
   ]
  }
 ],
 "metadata": {
  "kernelspec": {
   "display_name": "Python 3 (ipykernel)",
   "language": "python",
   "name": "python3"
  },
  "language_info": {
   "codemirror_mode": {
    "name": "ipython",
    "version": 3
   },
   "file_extension": ".py",
   "mimetype": "text/x-python",
   "name": "python",
   "nbconvert_exporter": "python",
   "pygments_lexer": "ipython3",
   "version": "3.9.7"
  }
 },
 "nbformat": 4,
 "nbformat_minor": 5
}
